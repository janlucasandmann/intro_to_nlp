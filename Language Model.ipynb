{
 "cells": [
  {
   "cell_type": "code",
   "execution_count": 52,
   "id": "b85c12e0",
   "metadata": {},
   "outputs": [],
   "source": [
    "import torch\n",
    "import torch.nn as nn\n",
    "import torch.nn.functional as F\n",
    "import random\n",
    "import matplotlib.pyplot as plt\n",
    "%matplotlib inline"
   ]
  },
  {
   "cell_type": "code",
   "execution_count": 53,
   "id": "04ca1a79",
   "metadata": {},
   "outputs": [],
   "source": [
    "words = open(\"names.txt\", \"r\").read().lower().splitlines()\n",
    "lex = [\".\",\"a\",\"b\",\"c\",\"d\",\"e\",\"f\",\"g\",\"h\",\"i\",\"j\",\"k\",\"l\",\"m\",\"n\",\"o\",\"p\",\"q\",\"r\",\"s\",\"t\",\"u\",\"v\",\"w\",\"x\",\"y\",\"z\"]"
   ]
  },
  {
   "cell_type": "code",
   "execution_count": 55,
   "id": "b6863b8f",
   "metadata": {},
   "outputs": [],
   "source": [
    "def to_num(char):\n",
    "    return lex.index(char)"
   ]
  },
  {
   "cell_type": "code",
   "execution_count": 80,
   "id": "3c85af8e",
   "metadata": {},
   "outputs": [],
   "source": [
    "xs, ys = [],[]\n",
    "\n",
    "for w in words[0:1]:\n",
    "    chars = list(w) + [\".\"]\n",
    "    \n",
    "    for c1, c2 in zip(chars, chars[1:]):\n",
    "        xs.append(to_num(c1))\n",
    "        ys.append(to_num(c2))\n",
    "        \n",
    "xs = torch.tensor(xs)\n",
    "ys = torch.tensor(ys)\n",
    "\n",
    "xenc = torch.nn.functional.one_hot(xs, 27).float()\n",
    "yenc = torch.nn.functional.one_hot(ys, 27).float()"
   ]
  },
  {
   "cell_type": "code",
   "execution_count": 139,
   "id": "f2d27049",
   "metadata": {},
   "outputs": [],
   "source": [
    "class NeuralNet(nn.Module):\n",
    "\n",
    "    def __init__(self):\n",
    "        super(NeuralNet, self).__init__()\n",
    "        self.lin1 = nn.Linear(27, 10)\n",
    "        self.lin2 = nn.Linear(10, 27)\n",
    "        self.training_progress = []\n",
    "\n",
    "    def forward(self, x):\n",
    "        x = F.relu(self.lin1(x))\n",
    "        x = self.lin2(x)\n",
    "        return x\n",
    "    \n",
    "    def train(self, words, iterations, learning_rate):\n",
    "        xs, ys = [],[]\n",
    "\n",
    "        for w in words:\n",
    "            chars = list(w) + [\".\"]\n",
    "\n",
    "            for c1, c2 in zip(chars, chars[1:]):\n",
    "                xs.append(to_num(c1))\n",
    "                ys.append(to_num(c2))\n",
    "\n",
    "        xs = torch.tensor(xs)\n",
    "        ys = torch.tensor(ys)\n",
    "\n",
    "        xenc = torch.nn.functional.one_hot(xs, 27).float()\n",
    "        training_progress = []\n",
    "        \n",
    "        for _ in range(iterations):\n",
    "            self.zero_grad()\n",
    "            pred = self(xenc)\n",
    "            probs = pred.softmax(1)\n",
    "            loss = -probs[torch.arange(len(xs)), ys].log().mean()\n",
    "            training_progress.append(loss.item())\n",
    "            loss.backward()\n",
    "            \n",
    "            for p in self.parameters():\n",
    "                p.data += -p.grad * learning_rate\n",
    "                \n",
    "        self.training_progress += training_progress\n",
    "            \n",
    "net = NeuralNet()\n",
    "            "
   ]
  },
  {
   "cell_type": "code",
   "execution_count": 173,
   "id": "319ee64b",
   "metadata": {},
   "outputs": [],
   "source": [
    "net.train(words, 500, 1)"
   ]
  },
  {
   "cell_type": "code",
   "execution_count": 174,
   "id": "66329589",
   "metadata": {
    "scrolled": false
   },
   "outputs": [
    {
     "data": {
      "text/plain": [
       "[<matplotlib.lines.Line2D at 0x138f6a2b0>]"
      ]
     },
     "execution_count": 174,
     "metadata": {},
     "output_type": "execute_result"
    },
    {
     "data": {
      "image/png": "[encoded data removed]",
      "text/plain": [
       "<Figure size 432x288 with 1 Axes>"
      ]
     },
     "metadata": {
      "needs_background": "light"
     },
     "output_type": "display_data"
    }
   ],
   "source": [
    "plt.plot(net.training_progress)"
   ]
  },
  {
   "cell_type": "code",
   "execution_count": 187,
   "id": "a8324227",
   "metadata": {},
   "outputs": [
    {
     "name": "stderr",
     "output_type": "stream",
     "text": [
      "/var/folders/m7/q114wcy152nc5tqs2955xk0w0000gn/T/ipykernel_72447/2708191300.py:5: UserWarning: To copy construct from a tensor, it is recommended to use sourceTensor.clone().detach() or sourceTensor.clone().detach().requires_grad_(True), rather than torch.tensor(sourceTensor).\n",
      "  xenc = torch.nn.functional.one_hot(torch.tensor(ix), 27).float()\n"
     ]
    },
    {
     "data": {
      "text/plain": [
       "['anyerethan',\n",
       " 'o',\n",
       " 'y',\n",
       " 'emoliel',\n",
       " 'aurisen',\n",
       " 'a',\n",
       " 'cisoria',\n",
       " 'o',\n",
       " 'somon',\n",
       " 'ta',\n",
       " '',\n",
       " '',\n",
       " 'akissie',\n",
       " 'erriorynizokinicari',\n",
       " 'e',\n",
       " 'iandan',\n",
       " 'ees',\n",
       " '',\n",
       " 'cany']"
      ]
     },
     "execution_count": 187,
     "metadata": {},
     "output_type": "execute_result"
    }
   ],
   "source": [
    "chars = \"\"\n",
    "ix = 0\n",
    "\n",
    "for i in range(100):\n",
    "    xenc = torch.nn.functional.one_hot(torch.tensor(ix), 27).float()\n",
    "    pred = net(xenc)\n",
    "    probs = pred.softmax(0)\n",
    "    ix = random.choices(torch.arange(27), weights=probs)[0]\n",
    "    chars += lex[ix]\n",
    "    \n",
    "chars.split(\".\")"
   ]
  }
 ],
 "metadata": {
  "kernelspec": {
   "display_name": "Python 3 (ipykernel)",
   "language": "python",
   "name": "python3"
  },
  "language_info": {
   "codemirror_mode": {
    "name": "ipython",
    "version": 3
   },
   "file_extension": ".py",
   "mimetype": "text/x-python",
   "name": "python",
   "nbconvert_exporter": "python",
   "pygments_lexer": "ipython3",
   "version": "3.8.13"
  }
 },
 "nbformat": 4,
 "nbformat_minor": 5
}
